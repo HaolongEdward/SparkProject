{
 "cells": [
  {
   "cell_type": "markdown",
   "id": "3202ffed",
   "metadata": {},
   "source": [
    "# SparkProject Movie Recommender Systems "
   ]
  },
  {
   "cell_type": "markdown",
   "id": "112d3ffd",
   "metadata": {},
   "source": [
    "### To Paytm team:"
   ]
  },
  {
   "cell_type": "markdown",
   "id": "ba172d5a",
   "metadata": {},
   "source": [
    "Please make sure that the following file dependence is in place before you run any of the following cell. "
   ]
  },
  {
   "cell_type": "code",
   "execution_count": 3,
   "id": "6d6f2eef",
   "metadata": {},
   "outputs": [
    {
     "name": "stdout",
     "output_type": "stream",
     "text": [
      "\u001b[0m\u001b[01;34mdata\u001b[0m/  \u001b[01;34m__MACOSX\u001b[0m/  README.md  SparkProject.ipynb\r\n"
     ]
    }
   ],
   "source": [
    "ls"
   ]
  },
  {
   "cell_type": "code",
   "execution_count": 5,
   "id": "4dbb5bf2",
   "metadata": {},
   "outputs": [
    {
     "name": "stdout",
     "output_type": "stream",
     "text": [
      "/home/jovyan/SparkProject/data\n"
     ]
    }
   ],
   "source": [
    "cd data"
   ]
  },
  {
   "cell_type": "code",
   "execution_count": 6,
   "id": "5f7f2a7d",
   "metadata": {},
   "outputs": [
    {
     "name": "stdout",
     "output_type": "stream",
     "text": [
      "MLE_Challenge.md  MLE_Challenge.pdf  movies.dat  ratings.dat\r\n"
     ]
    }
   ],
   "source": [
    "ls"
   ]
  },
  {
   "cell_type": "markdown",
   "id": "bd29853e",
   "metadata": {},
   "source": [
    "### Begin of the project."
   ]
  },
  {
   "cell_type": "code",
   "execution_count": 7,
   "id": "8d1e2350",
   "metadata": {},
   "outputs": [
    {
     "name": "stdout",
     "output_type": "stream",
     "text": [
      "/home/jovyan/SparkProject\n"
     ]
    }
   ],
   "source": [
    "cd .."
   ]
  },
  {
   "cell_type": "markdown",
   "id": "ec92e92a",
   "metadata": {},
   "source": [
    "Load libraries"
   ]
  },
  {
   "cell_type": "code",
   "execution_count": 58,
   "id": "52ad9362",
   "metadata": {},
   "outputs": [],
   "source": [
    "import pyspark\n",
    "from pyspark import SparkContext\n",
    "from pyspark import SparkFiles\n",
    "from pyspark.sql import SQLContext\n",
    "from pyspark.sql import Row\n",
    "\n"
   ]
  },
  {
   "cell_type": "code",
   "execution_count": null,
   "id": "fe6c2582",
   "metadata": {},
   "outputs": [],
   "source": [
    "sc =SparkContext()"
   ]
  },
  {
   "cell_type": "markdown",
   "id": "7eb8bedf",
   "metadata": {},
   "source": [
    "#### Load the movie file. "
   ]
  },
  {
   "cell_type": "code",
   "execution_count": null,
   "id": "9d5e8a66",
   "metadata": {},
   "outputs": [],
   "source": []
  },
  {
   "cell_type": "code",
   "execution_count": 68,
   "id": "a88c8f17",
   "metadata": {},
   "outputs": [
    {
     "name": "stdout",
     "output_type": "stream",
     "text": [
      "+-------+--------------------+--------------------+\n",
      "|MovieID|               Title|              Genres|\n",
      "+-------+--------------------+--------------------+\n",
      "|      1|    Toy Story (1995)|Adventure|Animati...|\n",
      "|      2|      Jumanji (1995)|Adventure|Childre...|\n",
      "|      3|Grumpier Old Men ...|      Comedy|Romance|\n",
      "|      4|Waiting to Exhale...|Comedy|Drama|Romance|\n",
      "|      5|Father of the Bri...|              Comedy|\n",
      "|      6|         Heat (1995)|Action|Crime|Thri...|\n",
      "|      7|      Sabrina (1995)|      Comedy|Romance|\n",
      "|      8| Tom and Huck (1995)|  Adventure|Children|\n",
      "|      9| Sudden Death (1995)|              Action|\n",
      "|     10|    GoldenEye (1995)|Action|Adventure|...|\n",
      "|     11|American Presiden...|Comedy|Drama|Romance|\n",
      "|     12|Dracula: Dead and...|       Comedy|Horror|\n",
      "|     13|        Balto (1995)|  Animation|Children|\n",
      "|     14|        Nixon (1995)|               Drama|\n",
      "|     15|Cutthroat Island ...|Action|Adventure|...|\n",
      "|     16|       Casino (1995)|         Crime|Drama|\n",
      "|     17|Sense and Sensibi...|Comedy|Drama|Romance|\n",
      "|     18|   Four Rooms (1995)|Comedy|Drama|Thri...|\n",
      "|     19|Ace Ventura: When...|              Comedy|\n",
      "|     20|  Money Train (1995)|Action|Comedy|Cri...|\n",
      "+-------+--------------------+--------------------+\n",
      "only showing top 20 rows\n",
      "\n",
      "+-------+--------------------+--------------------+\n",
      "|MovieID|               Title|              Genres|\n",
      "+-------+--------------------+--------------------+\n",
      "|      1|    Toy Story (1995)|00010010000000101001|\n",
      "|      2|      Jumanji (1995)|00010010000000100000|\n",
      "|      3|Grumpier Old Men ...|00000000000010001000|\n",
      "|      4|Waiting to Exhale...|10000000000010001000|\n",
      "|      5|Father of the Bri...|00000000000000001000|\n",
      "|      6|         Heat (1995)|01000001000000010000|\n",
      "|      7|      Sabrina (1995)|00000000000010001000|\n",
      "|      8| Tom and Huck (1995)|00010000000000100000|\n",
      "|      9| Sudden Death (1995)|00000001000000000000|\n",
      "|     10|    GoldenEye (1995)|00000001000000110000|\n",
      "|     11|American Presiden...|10000000000010001000|\n",
      "|     12|Dracula: Dead and...|00000100000000001000|\n",
      "|     13|        Balto (1995)|00010000000000000001|\n",
      "|     14|        Nixon (1995)|10000000000000000000|\n",
      "|     15|Cutthroat Island ...|00000001000010100000|\n",
      "|     16|       Casino (1995)|11000000000000000000|\n",
      "|     17|Sense and Sensibi...|10000000000010001000|\n",
      "|     18|   Four Rooms (1995)|10000000000000011000|\n",
      "|     19|Ace Ventura: When...|00000000000000001000|\n",
      "|     20|  Money Train (1995)|11000001000000011000|\n",
      "+-------+--------------------+--------------------+\n",
      "only showing top 20 rows\n",
      "\n"
     ]
    }
   ],
   "source": [
    "file_location = 'data/'\n",
    "movies_filename = 'movies.dat'\n",
    "\n",
    "moviews_header = ['MovieID','Title','Genres']\n",
    "\n",
    "allGenres = set()\n",
    "\n",
    "moviews_file = sc.textFile(file_location+movies_filename)\n",
    "moviews_df = moviews_file.map(lambda r : r.split('::'))\n",
    "\n",
    "moviews_df = moviews_df.toDF(moviews_header)\n",
    "moviews_df.show()\n",
    "\n",
    "\n",
    "for row in moviews_df.collect():\n",
    "    allGenres = allGenres.union(set(row[2].split('|')))\n",
    "allGenres = list(allGenres)\n",
    "\n",
    "genres_dict = dict()\n",
    "\n",
    "for i in range(len(allGenres)):\n",
    "    genres_dict[allGenres[i]] = i\n",
    "\n",
    "def genres_one_off_encoding(rdd):\n",
    "    genres = rdd['Genres'].split('|')\n",
    "    print(genres)\n",
    "    encoding = ['0']*len(allGenres)\n",
    "    for genre in genres:\n",
    "        encoding[genres_dict[genre]] = '1'\n",
    "    \n",
    "    return Row(rdd['MovieID'], rdd['Title'], ''.join(encoding))\n",
    "\n",
    "moviews_df = moviews_df.rdd.map(genres_one_off_encoding)\n",
    "moviews_df = moviews_df.toDF(moviews_header)\n",
    "moviews_df.show()\n",
    "\n"
   ]
  },
  {
   "cell_type": "code",
   "execution_count": 72,
   "id": "ff370740",
   "metadata": {},
   "outputs": [
    {
     "name": "stdout",
     "output_type": "stream",
     "text": [
      "+------+-------+----------+---------+\n",
      "|UserID|MovieID|    Rating|Timestamp|\n",
      "+------+-------+----------+---------+\n",
      "|     1|    122|         5|838985046|\n",
      "|     1|    185|         5|838983525|\n",
      "|     1|    231|         5|838983392|\n",
      "|     1|    292|         5|838983421|\n",
      "|     1|    316|         5|838983392|\n",
      "|     1|    329|         5|838983392|\n",
      "|     1|    355|         5|838984474|\n",
      "|     1|    356|         5|838983653|\n",
      "|     1|    362|         5|838984885|\n",
      "|     1|    364|         5|838983707|\n",
      "|     1|    370|         5|838984596|\n",
      "|     1|    377|         5|838983834|\n",
      "|     1|    420|         5|838983834|\n",
      "|     1|    466|         5|838984679|\n",
      "|     1|    466|9999999999|838984679|\n",
      "|     1|    480|         5|838983653|\n",
      "|     1|    520|         5|838984679|\n",
      "|     1|    539|         5|838984068|\n",
      "|     1|    586|         5|838984068|\n",
      "|     1|    588|         5|838983339|\n",
      "+------+-------+----------+---------+\n",
      "only showing top 20 rows\n",
      "\n",
      "10000055\n",
      "10000044\n",
      "10000035\n"
     ]
    }
   ],
   "source": [
    "file_location = 'data/'\n",
    "ratings_filename ='ratings.dat'\n",
    "\n",
    "ratings_header = ['UserID','MovieID','Rating','Timestamp']\n",
    "\n",
    "ratings_file = sc.textFile(file_location+ratings_filename)\n",
    "ratings_df = ratings_file.map(lambda r : r.split('::'))\n",
    "\n",
    "ratings_df.take(1)\n",
    "\n",
    "ratings_df = ratings_df.toDF(ratings_header)\n",
    "ratings_df.show()\n",
    "\n",
    "# ratings_df.show()"
   ]
  },
  {
   "cell_type": "code",
   "execution_count": 73,
   "id": "16cde578",
   "metadata": {},
   "outputs": [
    {
     "name": "stdout",
     "output_type": "stream",
     "text": [
      "10000035\n",
      "10000035\n",
      "10000035\n"
     ]
    },
    {
     "name": "stderr",
     "output_type": "stream",
     "text": [
      "----------------------------------------\n",
      "Exception occurred during processing of request from ('127.0.0.1', 48474)\n",
      "Traceback (most recent call last):\n",
      "  File \"/opt/conda/lib/python3.9/socketserver.py\", line 316, in _handle_request_noblock\n",
      "    self.process_request(request, client_address)\n",
      "  File \"/opt/conda/lib/python3.9/socketserver.py\", line 347, in process_request\n",
      "    self.finish_request(request, client_address)\n",
      "  File \"/opt/conda/lib/python3.9/socketserver.py\", line 360, in finish_request\n",
      "    self.RequestHandlerClass(request, client_address, self)\n",
      "  File \"/opt/conda/lib/python3.9/socketserver.py\", line 720, in __init__\n",
      "    self.handle()\n",
      "  File \"/usr/local/spark/python/pyspark/accumulators.py\", line 262, in handle\n",
      "    poll(accum_updates)\n",
      "  File \"/usr/local/spark/python/pyspark/accumulators.py\", line 235, in poll\n",
      "    if func():\n",
      "  File \"/usr/local/spark/python/pyspark/accumulators.py\", line 239, in accum_updates\n",
      "    num_updates = read_int(self.rfile)\n",
      "  File \"/usr/local/spark/python/pyspark/serializers.py\", line 564, in read_int\n",
      "    raise EOFError\n",
      "EOFError\n",
      "----------------------------------------\n"
     ]
    }
   ],
   "source": [
    "print(ratings_df.count())\n",
    "\n",
    "ratings_df = ratings_df.where(\"Rating<=5\")\n",
    "print(ratings_df.count())\n",
    "ratings_df = ratings_df.where(\"Rating>=0\")\n",
    "print(ratings_df.count())"
   ]
  },
  {
   "cell_type": "code",
   "execution_count": 74,
   "id": "f4d67e81",
   "metadata": {},
   "outputs": [
    {
     "name": "stdout",
     "output_type": "stream",
     "text": [
      "hello\n"
     ]
    }
   ],
   "source": [
    "print('hello')"
   ]
  },
  {
   "cell_type": "code",
   "execution_count": null,
   "id": "988eab3e",
   "metadata": {},
   "outputs": [],
   "source": []
  }
 ],
 "metadata": {
  "kernelspec": {
   "display_name": "Python 3",
   "language": "python",
   "name": "python3"
  },
  "language_info": {
   "codemirror_mode": {
    "name": "ipython",
    "version": 3
   },
   "file_extension": ".py",
   "mimetype": "text/x-python",
   "name": "python",
   "nbconvert_exporter": "python",
   "pygments_lexer": "ipython3",
   "version": "3.9.2"
  }
 },
 "nbformat": 4,
 "nbformat_minor": 5
}
